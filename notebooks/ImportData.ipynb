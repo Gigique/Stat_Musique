{
 "cells": [
  {
   "cell_type": "code",
   "execution_count": 73,
   "id": "546213f0-e95b-43bb-b5b7-60a396a2e1e9",
   "metadata": {},
   "outputs": [],
   "source": [
    "import pandas as pd\n",
    "import numpy as np\n",
    "import datetime"
   ]
  },
  {
   "cell_type": "code",
   "execution_count": 97,
   "id": "3ed506d5-7177-4381-9bc6-f418974562a4",
   "metadata": {},
   "outputs": [],
   "source": [
    "#import database of almost 1M songs\n",
    "path_to_csv = \"/Users/PC/stat_musique/data/tracks.csv\"\n",
    "liste_song = pd.read_csv(path_to_csv, dtype={7: str}, parse_dates=[13])"
   ]
  },
  {
   "cell_type": "code",
   "execution_count": 99,
   "id": "1be7c38d-813f-475a-af8c-1406c05035cf",
   "metadata": {},
   "outputs": [
    {
     "name": "stdout",
     "output_type": "stream",
     "text": [
      "<class 'pandas.core.frame.DataFrame'>\n",
      "RangeIndex: 899702 entries, 0 to 899701\n",
      "Data columns (total 33 columns):\n",
      " #   Column              Non-Null Count   Dtype              \n",
      "---  ------              --------------   -----              \n",
      " 0   track_id            899702 non-null  object             \n",
      " 1   streams             5870 non-null    float64            \n",
      " 2   artist_followers    892496 non-null  float64            \n",
      " 3   genres              892516 non-null  object             \n",
      " 4   album_total_tracks  899701 non-null  float64            \n",
      " 5   track_artists       99943 non-null   object             \n",
      " 6   artist_popularity   892516 non-null  float64            \n",
      " 7   explicit            899701 non-null  object             \n",
      " 8   tempo               899224 non-null  float64            \n",
      " 9   chart               7040 non-null    object             \n",
      " 10  album_release_date  899701 non-null  object             \n",
      " 11  energy              899224 non-null  float64            \n",
      " 12  key                 899224 non-null  float64            \n",
      " 13  added_at            394649 non-null  datetime64[ns, UTC]\n",
      " 14  popularity          899701 non-null  float64            \n",
      " 15  track_album_album   99997 non-null   object             \n",
      " 16  duration_ms         7040 non-null    float64            \n",
      " 17  available_markets   899701 non-null  object             \n",
      " 18  track_track_number  99997 non-null   float64            \n",
      " 19  rank                7040 non-null    float64            \n",
      " 20  mode                899224 non-null  float64            \n",
      " 21  time_signature      899224 non-null  float64            \n",
      " 22  album_name          899271 non-null  object             \n",
      " 23  speechiness         899224 non-null  float64            \n",
      " 24  region              7040 non-null    object             \n",
      " 25  danceability        899224 non-null  float64            \n",
      " 26  valence             899224 non-null  float64            \n",
      " 27  acousticness        899224 non-null  float64            \n",
      " 28  liveness            899224 non-null  float64            \n",
      " 29  trend               7040 non-null    object             \n",
      " 30  instrumentalness    899224 non-null  float64            \n",
      " 31  loudness            899224 non-null  float64            \n",
      " 32  name                899215 non-null  object             \n",
      "dtypes: datetime64[ns, UTC](1), float64(20), object(12)\n",
      "memory usage: 226.5+ MB\n"
     ]
    }
   ],
   "source": [
    "liste_song.info()"
   ]
  },
  {
   "cell_type": "code",
   "execution_count": null,
   "id": "9908746a-ab7a-4144-bfbf-27cb0ca6d2f1",
   "metadata": {},
   "outputs": [],
   "source": []
  }
 ],
 "metadata": {
  "kernelspec": {
   "display_name": "Python 3 (ipykernel)",
   "language": "python",
   "name": "python3"
  },
  "language_info": {
   "codemirror_mode": {
    "name": "ipython",
    "version": 3
   },
   "file_extension": ".py",
   "mimetype": "text/x-python",
   "name": "python",
   "nbconvert_exporter": "python",
   "pygments_lexer": "ipython3",
   "version": "3.12.3"
  }
 },
 "nbformat": 4,
 "nbformat_minor": 5
}
