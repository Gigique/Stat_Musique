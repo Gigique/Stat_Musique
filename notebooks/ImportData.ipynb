{
 "cells": [
  {
   "cell_type": "code",
   "execution_count": 2,
   "id": "546213f0-e95b-43bb-b5b7-60a396a2e1e9",
   "metadata": {},
   "outputs": [],
   "source": [
    "#Ceci est mon projet de musique"
   ]
  },
  {
   "cell_type": "code",
   "execution_count": null,
   "id": "3ed506d5-7177-4381-9bc6-f418974562a4",
   "metadata": {},
   "outputs": [],
   "source": []
  }
 ],
 "metadata": {
  "kernelspec": {
   "display_name": "Python 3 (ipykernel)",
   "language": "python",
   "name": "python3"
  },
  "language_info": {
   "codemirror_mode": {
    "name": "ipython",
    "version": 3
   },
   "file_extension": ".py",
   "mimetype": "text/x-python",
   "name": "python",
   "nbconvert_exporter": "python",
   "pygments_lexer": "ipython3",
   "version": "3.12.3"
  }
 },
 "nbformat": 4,
 "nbformat_minor": 5
}
